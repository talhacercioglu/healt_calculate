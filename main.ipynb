{
 "cells": [
  {
   "cell_type": "code",
   "execution_count": 1,
   "metadata": {},
   "outputs": [
    {
     "name": "stdout",
     "output_type": "stream",
     "text": [
      "Balanced CSV file successfully created: health.csv\n"
     ]
    }
   ],
   "source": [
    "import random\n",
    "\n",
    "# Generate random data for age, gender, smoking status, and weight status\n",
    "age = [random.randint(20, 60) for _ in range(50)]\n",
    "gender = [random.choice([\"Male\", \"Female\"]) for _ in range(50)]\n",
    "smoking_status = [random.choice([\"Yes\", \"No\"]) for _ in range(50)]\n",
    "weight_status = [random.choice([\"Normal\", \"Overweight\", \"Obese\"]) for _ in range(50)]\n",
    "\n",
    "# Determine health risk classes (for example, in an ordered manner)\n",
    "risk = [\"Low Risk\", \"Medium Risk\", \"High Risk\"] * 16 + [\"Low Risk\"] * 2\n",
    "\n",
    "# Write the data to a CSV file\n",
    "import csv\n",
    "\n",
    "data = list(zip(age, gender, smoking_status, weight_status, risk))\n",
    "\n",
    "with open('health.csv', mode='w', newline='') as file:\n",
    "    writer = csv.writer(file)\n",
    "    writer.writerow(['Age', 'Gender', 'Smoking', 'Weight Status', 'Risk'])\n",
    "    writer.writerows(data)\n",
    "\n",
    "print('Balanced CSV file successfully created: health.csv')"
   ]
  },
  {
   "cell_type": "code",
   "execution_count": 2,
   "metadata": {},
   "outputs": [
    {
     "data": {
      "text/html": [
       "<div>\n",
       "<style scoped>\n",
       "    .dataframe tbody tr th:only-of-type {\n",
       "        vertical-align: middle;\n",
       "    }\n",
       "\n",
       "    .dataframe tbody tr th {\n",
       "        vertical-align: top;\n",
       "    }\n",
       "\n",
       "    .dataframe thead th {\n",
       "        text-align: right;\n",
       "    }\n",
       "</style>\n",
       "<table border=\"1\" class=\"dataframe\">\n",
       "  <thead>\n",
       "    <tr style=\"text-align: right;\">\n",
       "      <th></th>\n",
       "      <th>Age</th>\n",
       "      <th>Gender</th>\n",
       "      <th>Smoking</th>\n",
       "      <th>Weight Status</th>\n",
       "      <th>Risk</th>\n",
       "    </tr>\n",
       "  </thead>\n",
       "  <tbody>\n",
       "    <tr>\n",
       "      <th>0</th>\n",
       "      <td>29</td>\n",
       "      <td>Male</td>\n",
       "      <td>No</td>\n",
       "      <td>Normal</td>\n",
       "      <td>Low Risk</td>\n",
       "    </tr>\n",
       "    <tr>\n",
       "      <th>1</th>\n",
       "      <td>44</td>\n",
       "      <td>Female</td>\n",
       "      <td>Yes</td>\n",
       "      <td>Normal</td>\n",
       "      <td>Medium Risk</td>\n",
       "    </tr>\n",
       "    <tr>\n",
       "      <th>2</th>\n",
       "      <td>29</td>\n",
       "      <td>Male</td>\n",
       "      <td>Yes</td>\n",
       "      <td>Obese</td>\n",
       "      <td>High Risk</td>\n",
       "    </tr>\n",
       "    <tr>\n",
       "      <th>3</th>\n",
       "      <td>55</td>\n",
       "      <td>Male</td>\n",
       "      <td>No</td>\n",
       "      <td>Overweight</td>\n",
       "      <td>Low Risk</td>\n",
       "    </tr>\n",
       "    <tr>\n",
       "      <th>4</th>\n",
       "      <td>53</td>\n",
       "      <td>Female</td>\n",
       "      <td>No</td>\n",
       "      <td>Obese</td>\n",
       "      <td>Medium Risk</td>\n",
       "    </tr>\n",
       "  </tbody>\n",
       "</table>\n",
       "</div>"
      ],
      "text/plain": [
       "   Age  Gender Smoking Weight Status         Risk\n",
       "0   29    Male      No        Normal     Low Risk\n",
       "1   44  Female     Yes        Normal  Medium Risk\n",
       "2   29    Male     Yes         Obese    High Risk\n",
       "3   55    Male      No    Overweight     Low Risk\n",
       "4   53  Female      No         Obese  Medium Risk"
      ]
     },
     "execution_count": 2,
     "metadata": {},
     "output_type": "execute_result"
    }
   ],
   "source": [
    "import pandas as pd\n",
    "\n",
    "# Read the CSV file\n",
    "df = pd.read_csv('health.csv')\n",
    "\n",
    "df.head()"
   ]
  },
  {
   "cell_type": "code",
   "execution_count": 3,
   "metadata": {},
   "outputs": [
    {
     "data": {
      "text/html": [
       "<div>\n",
       "<style scoped>\n",
       "    .dataframe tbody tr th:only-of-type {\n",
       "        vertical-align: middle;\n",
       "    }\n",
       "\n",
       "    .dataframe tbody tr th {\n",
       "        vertical-align: top;\n",
       "    }\n",
       "\n",
       "    .dataframe thead th {\n",
       "        text-align: right;\n",
       "    }\n",
       "</style>\n",
       "<table border=\"1\" class=\"dataframe\">\n",
       "  <thead>\n",
       "    <tr style=\"text-align: right;\">\n",
       "      <th></th>\n",
       "      <th>Age</th>\n",
       "    </tr>\n",
       "  </thead>\n",
       "  <tbody>\n",
       "    <tr>\n",
       "      <th>count</th>\n",
       "      <td>50.000000</td>\n",
       "    </tr>\n",
       "    <tr>\n",
       "      <th>mean</th>\n",
       "      <td>40.100000</td>\n",
       "    </tr>\n",
       "    <tr>\n",
       "      <th>std</th>\n",
       "      <td>12.604259</td>\n",
       "    </tr>\n",
       "    <tr>\n",
       "      <th>min</th>\n",
       "      <td>20.000000</td>\n",
       "    </tr>\n",
       "    <tr>\n",
       "      <th>25%</th>\n",
       "      <td>29.000000</td>\n",
       "    </tr>\n",
       "    <tr>\n",
       "      <th>50%</th>\n",
       "      <td>40.500000</td>\n",
       "    </tr>\n",
       "    <tr>\n",
       "      <th>75%</th>\n",
       "      <td>51.750000</td>\n",
       "    </tr>\n",
       "    <tr>\n",
       "      <th>max</th>\n",
       "      <td>60.000000</td>\n",
       "    </tr>\n",
       "  </tbody>\n",
       "</table>\n",
       "</div>"
      ],
      "text/plain": [
       "             Age\n",
       "count  50.000000\n",
       "mean   40.100000\n",
       "std    12.604259\n",
       "min    20.000000\n",
       "25%    29.000000\n",
       "50%    40.500000\n",
       "75%    51.750000\n",
       "max    60.000000"
      ]
     },
     "execution_count": 3,
     "metadata": {},
     "output_type": "execute_result"
    }
   ],
   "source": [
    "df.describe()"
   ]
  },
  {
   "cell_type": "code",
   "execution_count": 4,
   "metadata": {},
   "outputs": [],
   "source": [
    "from matplotlib import pyplot as plt"
   ]
  },
  {
   "cell_type": "code",
   "execution_count": 5,
   "metadata": {},
   "outputs": [
    {
     "data": {
      "image/png": "[encoded data removed]",
      "text/plain": [
       "<Figure size 600x600 with 1 Axes>"
      ]
     },
     "metadata": {},
     "output_type": "display_data"
    }
   ],
   "source": [
    "plt.figure(figsize=(6, 6))\n",
    "df['Gender'].value_counts().plot(kind='pie', autopct='%1.1f%%')\n",
    "plt.title('Gender Distribution')\n",
    "plt.show()"
   ]
  },
  {
   "cell_type": "code",
   "execution_count": 6,
   "metadata": {},
   "outputs": [
    {
     "data": {
      "image/png": "[encoded data removed]",
      "text/plain": [
       "<Figure size 600x600 with 1 Axes>"
      ]
     },
     "metadata": {},
     "output_type": "display_data"
    }
   ],
   "source": [
    "plt.figure(figsize=(6, 6))\n",
    "df['Smoking'].value_counts().plot(kind='bar')\n",
    "plt.title('Smoking Habits')\n",
    "plt.xlabel('Smoking Status')\n",
    "plt.ylabel('Count')\n",
    "plt.show()"
   ]
  },
  {
   "cell_type": "code",
   "execution_count": 7,
   "metadata": {},
   "outputs": [],
   "source": [
    "import seaborn as sns"
   ]
  },
  {
   "cell_type": "code",
   "execution_count": 8,
   "metadata": {},
   "outputs": [
    {
     "data": {
      "image/png": "[encoded data removed]",
      "text/plain": [
       "<Figure size 800x600 with 1 Axes>"
      ]
     },
     "metadata": {},
     "output_type": "display_data"
    }
   ],
   "source": [
    "plt.figure(figsize=(8, 6))\n",
    "sns.countplot(data=df, x='Weight Status')\n",
    "plt.title('Weight Status Distribution')\n",
    "plt.xlabel('Weight Status')\n",
    "plt.ylabel('Count')\n",
    "plt.xticks(rotation=45)\n",
    "plt.show()"
   ]
  },
  {
   "cell_type": "code",
   "execution_count": 9,
   "metadata": {},
   "outputs": [
    {
     "data": {
      "image/png": "[encoded data removed]",
      "text/plain": [
       "<Figure size 600x600 with 1 Axes>"
      ]
     },
     "metadata": {},
     "output_type": "display_data"
    }
   ],
   "source": [
    "plt.figure(figsize=(6, 6))\n",
    "df['Risk'].value_counts().plot(kind='bar')\n",
    "plt.title('Risk Distribution')\n",
    "plt.xlabel('Risk Status')\n",
    "plt.ylabel('Count')\n",
    "plt.show()"
   ]
  },
  {
   "cell_type": "code",
   "execution_count": 10,
   "metadata": {},
   "outputs": [
    {
     "data": {
      "image/png": "[encoded data removed]",
      "text/plain": [
       "<Figure size 1200x600 with 2 Axes>"
      ]
     },
     "metadata": {},
     "output_type": "display_data"
    }
   ],
   "source": [
    "# Health status of individuals who are both obese and smoke\n",
    "obese_smokers_health = df[(df['Weight Status'] == 'Obese') & (df['Smoking'] == 'Yes')]\n",
    "\n",
    "# Health status of non-smokers with normal weight\n",
    "normal_weight_non_smokers_health = df[(df['Weight Status'] == 'Normal') & (df['Smoking'] == 'No')]\n",
    "\n",
    "# Plot the graph\n",
    "plt.figure(figsize=(12, 6))\n",
    "\n",
    "plt.subplot(1, 2, 1)\n",
    "sns.countplot(data=obese_smokers_health, x='Risk')\n",
    "plt.title('Health Status of Obese Smokers')\n",
    "plt.xlabel('Risk Status')\n",
    "plt.ylabel('Count')\n",
    "\n",
    "plt.subplot(1, 2, 2)\n",
    "sns.countplot(data=normal_weight_non_smokers_health, x='Risk')\n",
    "plt.title('Health Status of Non-Smokers with Normal Weight')\n",
    "plt.xlabel('Risk Status')\n",
    "plt.ylabel('Count')\n",
    "\n",
    "plt.tight_layout()\n",
    "plt.show()"
   ]
  },
  {
   "cell_type": "code",
   "execution_count": 11,
   "metadata": {},
   "outputs": [
    {
     "name": "stdout",
     "output_type": "stream",
     "text": [
      "Accuracy Score of the Model: 0.2\n",
      "Classification Report:\n",
      "               precision    recall  f1-score   support\n",
      "\n",
      "           0       0.00      0.00      0.00         3\n",
      "           1       0.33      0.25      0.29         4\n",
      "           2       0.17      0.33      0.22         3\n",
      "\n",
      "    accuracy                           0.20        10\n",
      "   macro avg       0.17      0.19      0.17        10\n",
      "weighted avg       0.18      0.20      0.18        10\n",
      "\n"
     ]
    }
   ],
   "source": [
    "import pandas as pd\n",
    "from sklearn.model_selection import train_test_split\n",
    "from sklearn.preprocessing import LabelEncoder\n",
    "from sklearn.ensemble import RandomForestClassifier\n",
    "from sklearn.metrics import accuracy_score, classification_report\n",
    "\n",
    "# Read the data\n",
    "data = pd.read_csv('health.csv')\n",
    "\n",
    "# Prepare the data for the classification model\n",
    "le = LabelEncoder()\n",
    "data['Gender'] = le.fit_transform(data['Gender'])\n",
    "data['Smoking'] = le.fit_transform(data['Smoking'])\n",
    "data['Weight Status'] = le.fit_transform(data['Weight Status'])\n",
    "data['Risk'] = le.fit_transform(data['Risk'])\n",
    "\n",
    "# Separate independent variables (X) and dependent variable (y)\n",
    "X = data.drop('Risk', axis=1)\n",
    "y = data['Risk']\n",
    "\n",
    "# Split the data into training and test sets\n",
    "X_train, X_test, y_train, y_test = train_test_split(X, y, test_size=0.2, random_state=42)\n",
    "\n",
    "# Create the classification model\n",
    "model = RandomForestClassifier()\n",
    "\n",
    "# Train the model\n",
    "model.fit(X_train, y_train)\n",
    "\n",
    "# Test the performance of the model\n",
    "y_pred = model.predict(X_test)\n",
    "\n",
    "# Accuracy score\n",
    "accuracy = accuracy_score(y_test, y_pred)\n",
    "print(\"Accuracy Score of the Model:\", accuracy)\n",
    "\n",
    "# Classification report\n",
    "classification_rep = classification_report(y_test, y_pred)\n",
    "print(\"Classification Report:\\n\", classification_rep)"
   ]
  },
  {
   "cell_type": "code",
   "execution_count": 12,
   "metadata": {},
   "outputs": [
    {
     "name": "stdout",
     "output_type": "stream",
     "text": [
      "Decision Tree Model Accuracy Score: 0.4\n",
      "Classification Report:\n",
      "               precision    recall  f1-score   support\n",
      "\n",
      "           0       0.50      0.67      0.57         3\n",
      "           1       0.40      0.50      0.44         4\n",
      "           2       0.00      0.00      0.00         3\n",
      "\n",
      "    accuracy                           0.40        10\n",
      "   macro avg       0.30      0.39      0.34        10\n",
      "weighted avg       0.31      0.40      0.35        10\n",
      "\n"
     ]
    }
   ],
   "source": [
    "from sklearn.tree import DecisionTreeClassifier\n",
    "\n",
    "# Create a Decision Tree Classifier model\n",
    "model = DecisionTreeClassifier()\n",
    "\n",
    "# Train the model\n",
    "model.fit(X_train, y_train)\n",
    "\n",
    "# Test the performance of the model\n",
    "y_pred = model.predict(X_test)\n",
    "\n",
    "# Accuracy score\n",
    "accuracy = accuracy_score(y_test, y_pred)\n",
    "print(\"Decision Tree Model Accuracy Score:\", accuracy)\n",
    "\n",
    "# Classification report\n",
    "classification_rep = classification_report(y_test, y_pred)\n",
    "print(\"Classification Report:\\n\", classification_rep)"
   ]
  },
  {
   "cell_type": "markdown",
   "metadata": {},
   "source": [
    "KÖTÜ MODEL ÖRNEĞİ"
   ]
  },
  {
   "cell_type": "code",
   "execution_count": 13,
   "metadata": {},
   "outputs": [
    {
     "name": "stdout",
     "output_type": "stream",
     "text": [
      "Accuracy Score of the SVM Model: 0.4\n",
      "Classification Report:\n",
      "               precision    recall  f1-score   support\n",
      "\n",
      "           0       0.75      1.00      0.86         3\n",
      "           1       0.33      0.25      0.29         4\n",
      "           2       0.00      0.00      0.00         3\n",
      "\n",
      "    accuracy                           0.40        10\n",
      "   macro avg       0.36      0.42      0.38        10\n",
      "weighted avg       0.36      0.40      0.37        10\n",
      "\n"
     ]
    }
   ],
   "source": [
    "from sklearn.svm import SVC\n",
    "\n",
    "# Split the data into training and test sets\n",
    "X_train, X_test, y_train, y_test = train_test_split(X, y, test_size=0.2, random_state=42)\n",
    "\n",
    "# Create a Support Vector Machines (SVM) model\n",
    "model = SVC(kernel='linear')  # You can use a linear SVM, different kernels can also be tried.\n",
    "\n",
    "# Train the model\n",
    "model.fit(X_train, y_train)\n",
    "\n",
    "# Test the performance of the model\n",
    "y_pred = model.predict(X_test)\n",
    "\n",
    "# Accuracy score\n",
    "accuracy = accuracy_score(y_test, y_pred)\n",
    "print(\"Accuracy Score of the SVM Model:\", accuracy)\n",
    "\n",
    "# Classification report\n",
    "classification_rep = classification_report(y_test, y_pred)\n",
    "print(\"Classification Report:\\n\", classification_rep)"
   ]
  },
  {
   "cell_type": "code",
   "execution_count": 14,
   "metadata": {},
   "outputs": [
    {
     "name": "stdout",
     "output_type": "stream",
     "text": [
      "Accuracy Score of the k-NN Model: 0.3\n",
      "Classification Report:\n",
      "               precision    recall  f1-score   support\n",
      "\n",
      "           0       0.33      0.33      0.33         3\n",
      "           1       0.33      0.25      0.29         4\n",
      "           2       0.25      0.33      0.29         3\n",
      "\n",
      "    accuracy                           0.30        10\n",
      "   macro avg       0.31      0.31      0.30        10\n",
      "weighted avg       0.31      0.30      0.30        10\n",
      "\n"
     ]
    }
   ],
   "source": [
    "from sklearn.neighbors import KNeighborsClassifier\n",
    "\n",
    "# Create a k-Nearest Neighbors (k-NN) model with k=5 (you can adjust the k value)\n",
    "model = KNeighborsClassifier(n_neighbors=5)\n",
    "\n",
    "# Train the model\n",
    "model.fit(X_train, y_train)\n",
    "\n",
    "# Test the performance of the model\n",
    "y_pred = model.predict(X_test)\n",
    "\n",
    "# Accuracy score\n",
    "accuracy = accuracy_score(y_test, y_pred)\n",
    "print(\"Accuracy Score of the k-NN Model:\", accuracy)\n",
    "\n",
    "# Classification report\n",
    "classification_rep = classification_report(y_test, y_pred)\n",
    "print(\"Classification Report:\\n\", classification_rep)"
   ]
  },
  {
   "cell_type": "code",
   "execution_count": 15,
   "metadata": {},
   "outputs": [
    {
     "name": "stdout",
     "output_type": "stream",
     "text": [
      "Accuracy Score of the k-NN Model: 0.2\n",
      "Classification Report:\n",
      "               precision    recall  f1-score   support\n",
      "\n",
      "           0       0.20      0.33      0.25         3\n",
      "           1       0.00      0.00      0.00         4\n",
      "           2       0.33      0.33      0.33         3\n",
      "\n",
      "    accuracy                           0.20        10\n",
      "   macro avg       0.18      0.22      0.19        10\n",
      "weighted avg       0.16      0.20      0.17        10\n",
      "\n"
     ]
    }
   ],
   "source": [
    "from sklearn.neighbors import KNeighborsClassifier\n",
    "\n",
    "# Create a k-Nearest Neighbors (k-NN) model with k=10 (you can adjust the k value)\n",
    "model = KNeighborsClassifier(n_neighbors=10)\n",
    "\n",
    "# Train the model\n",
    "model.fit(X_train, y_train)\n",
    "\n",
    "# Test the performance of the model\n",
    "y_pred = model.predict(X_test)\n",
    "\n",
    "# Accuracy score\n",
    "accuracy = accuracy_score(y_test, y_pred)\n",
    "print(\"Accuracy Score of the k-NN Model:\", accuracy)\n",
    "\n",
    "# Classification report\n",
    "classification_rep = classification_report(y_test, y_pred)\n",
    "print(\"Classification Report:\\n\", classification_rep)"
   ]
  },
  {
   "cell_type": "markdown",
   "metadata": {},
   "source": [
    "Increasing or decreasing the value of the n_neighbors parameter may affect the performance of the k-NN model. This parameter determines the number of neighbors used to estimate each data point. Different values of the parameter can produce different results:\n",
    "\n",
    "Smaller n_neighbors Value:\n",
    "\n",
    "Decreasing the value of n_neighbors uses fewer neighbors around each data point.\n",
    "The model is more sensitive and more responsive to noisy data.\n",
    "The risk of overfitting may increase, meaning the model may overfit training data, but its ability to generalize to testing data may decrease.\n",
    "\n",
    "Larger n_neighbors Value:\n",
    "\n",
    "Increasing the value of n_neighbors uses more neighbors around each data point.\n",
    "The model will have lower complexity and can produce smoother predictions.\n",
    "There is a high probability of obtaining a more generalizing model.\n",
    "However, too large a value of n_neighbors may cause the model to have extremely low complexity and include too many neighbors to discriminate."
   ]
  },
  {
   "cell_type": "code",
   "execution_count": 16,
   "metadata": {},
   "outputs": [
    {
     "name": "stdout",
     "output_type": "stream",
     "text": [
      "-------------------------------------------------\n",
      "When k is 1.\n",
      "Accuracy Score of the k-NN Model: 0.1\n",
      "Classification Report:\n",
      "               precision    recall  f1-score   support\n",
      "\n",
      "           0       0.25      0.33      0.29         3\n",
      "           1       0.00      0.00      0.00         4\n",
      "           2       0.00      0.00      0.00         3\n",
      "\n",
      "    accuracy                           0.10        10\n",
      "   macro avg       0.08      0.11      0.10        10\n",
      "weighted avg       0.07      0.10      0.09        10\n",
      "\n",
      "-------------------------------------------------\n",
      "When k is 2.\n",
      "Accuracy Score of the k-NN Model: 0.1\n"
     ]
    },
    {
     "name": "stdout",
     "output_type": "stream",
     "text": [
      "Classification Report:\n",
      "               precision    recall  f1-score   support\n",
      "\n",
      "           0       0.20      0.33      0.25         3\n",
      "           1       0.00      0.00      0.00         4\n",
      "           2       0.00      0.00      0.00         3\n",
      "\n",
      "    accuracy                           0.10        10\n",
      "   macro avg       0.07      0.11      0.08        10\n",
      "weighted avg       0.06      0.10      0.07        10\n",
      "\n",
      "-------------------------------------------------\n",
      "When k is 3.\n",
      "Accuracy Score of the k-NN Model: 0.3\n",
      "Classification Report:\n",
      "               precision    recall  f1-score   support\n",
      "\n",
      "           0       0.33      0.33      0.33         3\n",
      "           1       0.33      0.25      0.29         4\n",
      "           2       0.25      0.33      0.29         3\n",
      "\n",
      "    accuracy                           0.30        10\n",
      "   macro avg       0.31      0.31      0.30        10\n",
      "weighted avg       0.31      0.30      0.30        10\n",
      "\n",
      "-------------------------------------------------\n",
      "When k is 4.\n",
      "Accuracy Score of the k-NN Model: 0.1\n",
      "Classification Report:\n",
      "               precision    recall  f1-score   support\n",
      "\n",
      "           0       0.25      0.33      0.29         3\n",
      "           1       0.00      0.00      0.00         4\n",
      "           2       0.00      0.00      0.00         3\n",
      "\n",
      "    accuracy                           0.10        10\n",
      "   macro avg       0.08      0.11      0.10        10\n",
      "weighted avg       0.07      0.10      0.09        10\n",
      "\n",
      "-------------------------------------------------\n",
      "When k is 5.\n",
      "Accuracy Score of the k-NN Model: 0.3\n",
      "Classification Report:\n",
      "               precision    recall  f1-score   support\n",
      "\n",
      "           0       0.33      0.33      0.33         3\n",
      "           1       0.33      0.25      0.29         4\n",
      "           2       0.25      0.33      0.29         3\n",
      "\n",
      "    accuracy                           0.30        10\n",
      "   macro avg       0.31      0.31      0.30        10\n",
      "weighted avg       0.31      0.30      0.30        10\n",
      "\n",
      "-------------------------------------------------\n",
      "When k is 6.\n",
      "Accuracy Score of the k-NN Model: 0.2\n",
      "Classification Report:\n",
      "               precision    recall  f1-score   support\n",
      "\n",
      "           0       0.33      0.33      0.33         3\n",
      "           1       0.33      0.25      0.29         4\n",
      "           2       0.00      0.00      0.00         3\n",
      "\n",
      "    accuracy                           0.20        10\n",
      "   macro avg       0.22      0.19      0.21        10\n",
      "weighted avg       0.23      0.20      0.21        10\n",
      "\n",
      "-------------------------------------------------\n",
      "When k is 7.\n",
      "Accuracy Score of the k-NN Model: 0.2\n",
      "Classification Report:\n",
      "               precision    recall  f1-score   support\n",
      "\n",
      "           0       0.20      0.33      0.25         3\n",
      "           1       0.33      0.25      0.29         4\n",
      "           2       0.00      0.00      0.00         3\n",
      "\n",
      "    accuracy                           0.20        10\n",
      "   macro avg       0.18      0.19      0.18        10\n",
      "weighted avg       0.19      0.20      0.19        10\n",
      "\n",
      "-------------------------------------------------\n",
      "When k is 8.\n",
      "Accuracy Score of the k-NN Model: 0.3\n",
      "Classification Report:\n",
      "               precision    recall  f1-score   support\n",
      "\n",
      "           0       0.50      0.33      0.40         3\n",
      "           1       0.33      0.25      0.29         4\n",
      "           2       0.20      0.33      0.25         3\n",
      "\n",
      "    accuracy                           0.30        10\n",
      "   macro avg       0.34      0.31      0.31        10\n",
      "weighted avg       0.34      0.30      0.31        10\n",
      "\n",
      "-------------------------------------------------\n",
      "When k is 9.\n",
      "Accuracy Score of the k-NN Model: 0.2\n",
      "Classification Report:\n",
      "               precision    recall  f1-score   support\n",
      "\n",
      "           0       0.25      0.33      0.29         3\n",
      "           1       0.00      0.00      0.00         4\n",
      "           2       0.25      0.33      0.29         3\n",
      "\n",
      "    accuracy                           0.20        10\n",
      "   macro avg       0.17      0.22      0.19        10\n",
      "weighted avg       0.15      0.20      0.17        10\n",
      "\n",
      "-------------------------------------------------\n",
      "When k is 10.\n",
      "Accuracy Score of the k-NN Model: 0.2\n",
      "Classification Report:\n",
      "               precision    recall  f1-score   support\n",
      "\n",
      "           0       0.20      0.33      0.25         3\n",
      "           1       0.00      0.00      0.00         4\n",
      "           2       0.33      0.33      0.33         3\n",
      "\n",
      "    accuracy                           0.20        10\n",
      "   macro avg       0.18      0.22      0.19        10\n",
      "weighted avg       0.16      0.20      0.17        10\n",
      "\n"
     ]
    }
   ],
   "source": [
    "from sklearn.neighbors import KNeighborsClassifier\n",
    "\n",
    "for i in range(1, 11):  # Try each k value from 1 to 10\n",
    "    model = KNeighborsClassifier(n_neighbors=i)\n",
    "\n",
    "    # Train the model\n",
    "    model.fit(X_train, y_train)\n",
    "\n",
    "    # Test the performance of the model\n",
    "    y_pred = model.predict(X_test)\n",
    "\n",
    "    print(\"-------------------------------------------------\")\n",
    "    print(f\"When k is {i}.\")\n",
    "\n",
    "    # Accuracy score\n",
    "    accuracy = accuracy_score(y_test, y_pred)\n",
    "    print(\"Accuracy Score of the k-NN Model:\", accuracy)\n",
    "\n",
    "    # Classification report\n",
    "    classification_rep = classification_report(y_test, y_pred)\n",
    "    print(\"Classification Report:\\n\", classification_rep)"
   ]
  },
  {
   "cell_type": "code",
   "execution_count": 17,
   "metadata": {},
   "outputs": [
    {
     "name": "stdout",
     "output_type": "stream",
     "text": [
      "Accuracy Score of the Logistic Regression Model: 0.4\n",
      "Classification Report:\n",
      "               precision    recall  f1-score   support\n",
      "\n",
      "           0       0.75      1.00      0.86         3\n",
      "           1       0.33      0.25      0.29         4\n",
      "           2       0.00      0.00      0.00         3\n",
      "\n",
      "    accuracy                           0.40        10\n",
      "   macro avg       0.36      0.42      0.38        10\n",
      "weighted avg       0.36      0.40      0.37        10\n",
      "\n"
     ]
    }
   ],
   "source": [
    "from sklearn.linear_model import LogisticRegression\n",
    "\n",
    "# Create a Logistic Regression model with a maximum of 1000 iterations\n",
    "model = LogisticRegression(max_iter=1000)\n",
    "\n",
    "# Train the model\n",
    "model.fit(X_train, y_train)\n",
    "\n",
    "# Test the performance of the model\n",
    "y_pred = model.predict(X_test)\n",
    "\n",
    "# Accuracy score\n",
    "accuracy = accuracy_score(y_test, y_pred)\n",
    "print(\"Accuracy Score of the Logistic Regression Model:\", accuracy)\n",
    "\n",
    "# Classification report\n",
    "classification_rep = classification_report(y_test, y_pred)\n",
    "print(\"Classification Report:\\n\", classification_rep)"
   ]
  },
  {
   "cell_type": "markdown",
   "metadata": {},
   "source": [
    "max_iter is a hyperparameter that determines the number of iterations (i.e. the number of repetitions) during the training process of the Logistic Regression model. Logistic Regression trains model parameters using an optimized algorithm. This optimization algorithm tries to minimize the loss function of the model. The max_iter parameter determines how many iterations this algorithm will run. This controls how long the model should be optimized.\n",
    "\n",
    "How to determine the max_iter parameter depends on your problem and dataset. The value is related to the training time and optimization time of the model. Here are some guidelines for determining the max_iter parameter:\n",
    "\n",
    "Initially, a value used in many machine learning applications will usually suffice, such as 100 or 1000. These values may be appropriate for most datasets.\n",
    "\n",
    "However, if you receive a ConvergenceWarning error before the training period is completed or if you think that the model cannot achieve the desired level of convergence (i.e. optimizing), you can increase the max_iter value.\n",
    "\n",
    "Also, if you find that the training time is taking too long or the model tends to overfit, you can reduce the max_iter value.\n",
    "\n",
    "In some implementations, you can automatically tune max_iter using automatic hyperparameter tuning techniques. This usually sets the max_iter value to a value that gives the best results."
   ]
  }
 ],
 "metadata": {
  "kernelspec": {
   "display_name": "Python 3",
   "language": "python",
   "name": "python3"
  },
  "language_info": {
   "codemirror_mode": {
    "name": "ipython",
    "version": 3
   },
   "file_extension": ".py",
   "mimetype": "text/x-python",
   "name": "python",
   "nbconvert_exporter": "python",
   "pygments_lexer": "ipython3",
   "version": "3.12.1"
  }
 },
 "nbformat": 4,
 "nbformat_minor": 2
}
